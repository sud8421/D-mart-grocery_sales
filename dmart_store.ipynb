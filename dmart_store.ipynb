{
 "cells": [
  {
   "cell_type": "code",
   "execution_count": 2,
   "id": "65cdf3df",
   "metadata": {},
   "outputs": [],
   "source": [
    "import pandas as pd\n",
    "import numpy as np\n",
    "import matplotlib.pyplot as plt\n",
    "import seaborn as sns\n",
    "import mysql.connector "
   ]
  },
  {
   "cell_type": "code",
   "execution_count": 4,
   "id": "212b3e51",
   "metadata": {},
   "outputs": [
    {
     "name": "stdout",
     "output_type": "stream",
     "text": [
      "data connected successfully!\n"
     ]
    }
   ],
   "source": [
    "conn = mysql.connector.connect(\n",
    "    host = \"localhost\",\n",
    "    user = \"root\",\n",
    "    password = \"\",\n",
    "    database = \"dmart_store\"\n",
    ")\n",
    "print(\"data connected successfully!\")"
   ]
  },
  {
   "cell_type": "code",
   "execution_count": 7,
   "id": "1d1ccbca",
   "metadata": {},
   "outputs": [
    {
     "name": "stderr",
     "output_type": "stream",
     "text": [
      "C:\\Users\\SUD2\\AppData\\Local\\Temp\\ipykernel_19384\\1294066930.py:2: UserWarning: pandas only supports SQLAlchemy connectable (engine/connection) or database string URI or sqlite3 DBAPI2 connection. Other DBAPI2 objects are not tested. Please consider using SQLAlchemy.\n",
      "  df = pd.read_sql(query, conn)\n"
     ]
    },
    {
     "data": {
      "text/html": [
       "<div>\n",
       "<style scoped>\n",
       "    .dataframe tbody tr th:only-of-type {\n",
       "        vertical-align: middle;\n",
       "    }\n",
       "\n",
       "    .dataframe tbody tr th {\n",
       "        vertical-align: top;\n",
       "    }\n",
       "\n",
       "    .dataframe thead th {\n",
       "        text-align: right;\n",
       "    }\n",
       "</style>\n",
       "<table border=\"1\" class=\"dataframe\">\n",
       "  <thead>\n",
       "    <tr style=\"text-align: right;\">\n",
       "      <th></th>\n",
       "      <th>OrderID</th>\n",
       "      <th>CustomerName</th>\n",
       "      <th>Category</th>\n",
       "      <th>SubCategory</th>\n",
       "      <th>City</th>\n",
       "      <th>OrderDate</th>\n",
       "      <th>Region</th>\n",
       "      <th>Sales</th>\n",
       "      <th>Discount</th>\n",
       "      <th>Profit</th>\n",
       "      <th>State</th>\n",
       "    </tr>\n",
       "  </thead>\n",
       "  <tbody>\n",
       "    <tr>\n",
       "      <th>0</th>\n",
       "      <td>OD1</td>\n",
       "      <td>Harish</td>\n",
       "      <td>Oil &amp; Masala</td>\n",
       "      <td>Masalas</td>\n",
       "      <td>Vellore</td>\n",
       "      <td>None</td>\n",
       "      <td>North</td>\n",
       "      <td>1254.0</td>\n",
       "      <td>0.12</td>\n",
       "      <td>401.28</td>\n",
       "      <td>Tamil Nadu</td>\n",
       "    </tr>\n",
       "  </tbody>\n",
       "</table>\n",
       "</div>"
      ],
      "text/plain": [
       "  OrderID CustomerName      Category SubCategory     City OrderDate Region  \\\n",
       "0     OD1       Harish  Oil & Masala     Masalas  Vellore      None  North   \n",
       "\n",
       "    Sales  Discount  Profit       State  \n",
       "0  1254.0      0.12  401.28  Tamil Nadu  "
      ]
     },
     "execution_count": 7,
     "metadata": {},
     "output_type": "execute_result"
    }
   ],
   "source": [
    "query = \"SELECT * FROM dmart_sales\"\n",
    "df = pd.read_sql(query, conn)\n",
    "df.head(1)"
   ]
  },
  {
   "cell_type": "code",
   "execution_count": 9,
   "id": "16ba8856",
   "metadata": {},
   "outputs": [
    {
     "data": {
      "text/html": [
       "<div>\n",
       "<style scoped>\n",
       "    .dataframe tbody tr th:only-of-type {\n",
       "        vertical-align: middle;\n",
       "    }\n",
       "\n",
       "    .dataframe tbody tr th {\n",
       "        vertical-align: top;\n",
       "    }\n",
       "\n",
       "    .dataframe thead th {\n",
       "        text-align: right;\n",
       "    }\n",
       "</style>\n",
       "<table border=\"1\" class=\"dataframe\">\n",
       "  <thead>\n",
       "    <tr style=\"text-align: right;\">\n",
       "      <th></th>\n",
       "      <th>Sales</th>\n",
       "      <th>Profit</th>\n",
       "    </tr>\n",
       "    <tr>\n",
       "      <th>Category</th>\n",
       "      <th></th>\n",
       "      <th></th>\n",
       "    </tr>\n",
       "  </thead>\n",
       "  <tbody>\n",
       "    <tr>\n",
       "      <th>Eggs, Meat &amp; Fish</th>\n",
       "      <td>2267401.0</td>\n",
       "      <td>567357.22</td>\n",
       "    </tr>\n",
       "    <tr>\n",
       "      <th>Snacks</th>\n",
       "      <td>2237546.0</td>\n",
       "      <td>568178.85</td>\n",
       "    </tr>\n",
       "    <tr>\n",
       "      <th>Food Grains</th>\n",
       "      <td>2115272.0</td>\n",
       "      <td>529162.64</td>\n",
       "    </tr>\n",
       "    <tr>\n",
       "      <th>Bakery</th>\n",
       "      <td>2112281.0</td>\n",
       "      <td>528521.06</td>\n",
       "    </tr>\n",
       "    <tr>\n",
       "      <th>Fruits &amp; Veggies</th>\n",
       "      <td>2100727.0</td>\n",
       "      <td>530400.38</td>\n",
       "    </tr>\n",
       "  </tbody>\n",
       "</table>\n",
       "</div>"
      ],
      "text/plain": [
       "                       Sales     Profit\n",
       "Category                               \n",
       "Eggs, Meat & Fish  2267401.0  567357.22\n",
       "Snacks             2237546.0  568178.85\n",
       "Food Grains        2115272.0  529162.64\n",
       "Bakery             2112281.0  528521.06\n",
       "Fruits & Veggies   2100727.0  530400.38"
      ]
     },
     "execution_count": 9,
     "metadata": {},
     "output_type": "execute_result"
    }
   ],
   "source": [
    "cart_summary = df.groupby(\"Category\").agg({\"Sales\" : \"sum\", \"Profit\" : \"sum\"}).sort_values(\"Sales\", ascending = False)\n",
    "cart_summary.head(5)"
   ]
  },
  {
   "cell_type": "code",
   "execution_count": 12,
   "id": "72f99672",
   "metadata": {},
   "outputs": [
    {
     "data": {
      "text/html": [
       "<div>\n",
       "<style scoped>\n",
       "    .dataframe tbody tr th:only-of-type {\n",
       "        vertical-align: middle;\n",
       "    }\n",
       "\n",
       "    .dataframe tbody tr th {\n",
       "        vertical-align: top;\n",
       "    }\n",
       "\n",
       "    .dataframe thead th {\n",
       "        text-align: right;\n",
       "    }\n",
       "</style>\n",
       "<table border=\"1\" class=\"dataframe\">\n",
       "  <thead>\n",
       "    <tr style=\"text-align: right;\">\n",
       "      <th></th>\n",
       "      <th>OrderID</th>\n",
       "      <th>CustomerName</th>\n",
       "      <th>Category</th>\n",
       "      <th>SubCategory</th>\n",
       "      <th>City</th>\n",
       "      <th>OrderDate</th>\n",
       "      <th>Region</th>\n",
       "      <th>Sales</th>\n",
       "      <th>Discount</th>\n",
       "      <th>Profit</th>\n",
       "      <th>State</th>\n",
       "      <th>Percentage_Profit</th>\n",
       "    </tr>\n",
       "  </thead>\n",
       "  <tbody>\n",
       "    <tr>\n",
       "      <th>0</th>\n",
       "      <td>OD1</td>\n",
       "      <td>Harish</td>\n",
       "      <td>Oil &amp; Masala</td>\n",
       "      <td>Masalas</td>\n",
       "      <td>Vellore</td>\n",
       "      <td>None</td>\n",
       "      <td>North</td>\n",
       "      <td>1254.0</td>\n",
       "      <td>0.12</td>\n",
       "      <td>401.28</td>\n",
       "      <td>Tamil Nadu</td>\n",
       "      <td>32.0</td>\n",
       "    </tr>\n",
       "    <tr>\n",
       "      <th>1</th>\n",
       "      <td>OD2</td>\n",
       "      <td>Sudha</td>\n",
       "      <td>Beverages</td>\n",
       "      <td>Health Drinks</td>\n",
       "      <td>Krishnagiri</td>\n",
       "      <td>None</td>\n",
       "      <td>South</td>\n",
       "      <td>749.0</td>\n",
       "      <td>0.18</td>\n",
       "      <td>149.80</td>\n",
       "      <td>Tamil Nadu</td>\n",
       "      <td>20.0</td>\n",
       "    </tr>\n",
       "    <tr>\n",
       "      <th>2</th>\n",
       "      <td>OD3</td>\n",
       "      <td>Hussain</td>\n",
       "      <td>Food Grains</td>\n",
       "      <td>Atta &amp; Flour</td>\n",
       "      <td>Perambalur</td>\n",
       "      <td>None</td>\n",
       "      <td>West</td>\n",
       "      <td>2360.0</td>\n",
       "      <td>0.21</td>\n",
       "      <td>165.20</td>\n",
       "      <td>Tamil Nadu</td>\n",
       "      <td>7.0</td>\n",
       "    </tr>\n",
       "    <tr>\n",
       "      <th>3</th>\n",
       "      <td>OD4</td>\n",
       "      <td>Jackson</td>\n",
       "      <td>Fruits &amp; Veggies</td>\n",
       "      <td>Fresh Vegetables</td>\n",
       "      <td>Dharmapuri</td>\n",
       "      <td>None</td>\n",
       "      <td>South</td>\n",
       "      <td>896.0</td>\n",
       "      <td>0.25</td>\n",
       "      <td>89.60</td>\n",
       "      <td>Tamil Nadu</td>\n",
       "      <td>10.0</td>\n",
       "    </tr>\n",
       "    <tr>\n",
       "      <th>4</th>\n",
       "      <td>OD5</td>\n",
       "      <td>Ridhesh</td>\n",
       "      <td>Food Grains</td>\n",
       "      <td>Organic Staples</td>\n",
       "      <td>Ooty</td>\n",
       "      <td>None</td>\n",
       "      <td>South</td>\n",
       "      <td>2355.0</td>\n",
       "      <td>0.26</td>\n",
       "      <td>918.45</td>\n",
       "      <td>Tamil Nadu</td>\n",
       "      <td>39.0</td>\n",
       "    </tr>\n",
       "  </tbody>\n",
       "</table>\n",
       "</div>"
      ],
      "text/plain": [
       "  OrderID CustomerName          Category       SubCategory         City  \\\n",
       "0     OD1       Harish      Oil & Masala           Masalas      Vellore   \n",
       "1     OD2        Sudha         Beverages     Health Drinks  Krishnagiri   \n",
       "2     OD3      Hussain       Food Grains      Atta & Flour   Perambalur   \n",
       "3     OD4      Jackson  Fruits & Veggies  Fresh Vegetables   Dharmapuri   \n",
       "4     OD5      Ridhesh       Food Grains   Organic Staples         Ooty   \n",
       "\n",
       "  OrderDate Region   Sales  Discount  Profit       State  Percentage_Profit  \n",
       "0      None  North  1254.0      0.12  401.28  Tamil Nadu               32.0  \n",
       "1      None  South   749.0      0.18  149.80  Tamil Nadu               20.0  \n",
       "2      None   West  2360.0      0.21  165.20  Tamil Nadu                7.0  \n",
       "3      None  South   896.0      0.25   89.60  Tamil Nadu               10.0  \n",
       "4      None  South  2355.0      0.26  918.45  Tamil Nadu               39.0  "
      ]
     },
     "execution_count": 12,
     "metadata": {},
     "output_type": "execute_result"
    }
   ],
   "source": [
    "df['Percentage_Profit'] = (df['Profit'] / df['Sales']) * 100\n",
    "df.head()"
   ]
  },
  {
   "cell_type": "code",
   "execution_count": 15,
   "id": "564ea5a3",
   "metadata": {},
   "outputs": [
    {
     "data": {
      "text/html": [
       "<div>\n",
       "<style scoped>\n",
       "    .dataframe tbody tr th:only-of-type {\n",
       "        vertical-align: middle;\n",
       "    }\n",
       "\n",
       "    .dataframe tbody tr th {\n",
       "        vertical-align: top;\n",
       "    }\n",
       "\n",
       "    .dataframe thead th {\n",
       "        text-align: right;\n",
       "    }\n",
       "</style>\n",
       "<table border=\"1\" class=\"dataframe\">\n",
       "  <thead>\n",
       "    <tr style=\"text-align: right;\">\n",
       "      <th></th>\n",
       "      <th>Sales</th>\n",
       "      <th>Profit</th>\n",
       "    </tr>\n",
       "    <tr>\n",
       "      <th>Region</th>\n",
       "      <th></th>\n",
       "      <th></th>\n",
       "    </tr>\n",
       "  </thead>\n",
       "  <tbody>\n",
       "    <tr>\n",
       "      <th>West</th>\n",
       "      <td>4798743.0</td>\n",
       "      <td>1192004.61</td>\n",
       "    </tr>\n",
       "    <tr>\n",
       "      <th>East</th>\n",
       "      <td>4248368.0</td>\n",
       "      <td>1074345.58</td>\n",
       "    </tr>\n",
       "    <tr>\n",
       "      <th>Central</th>\n",
       "      <td>3468156.0</td>\n",
       "      <td>856806.84</td>\n",
       "    </tr>\n",
       "    <tr>\n",
       "      <th>South</th>\n",
       "      <td>2440461.0</td>\n",
       "      <td>623562.89</td>\n",
       "    </tr>\n",
       "    <tr>\n",
       "      <th>North</th>\n",
       "      <td>1254.0</td>\n",
       "      <td>401.28</td>\n",
       "    </tr>\n",
       "  </tbody>\n",
       "</table>\n",
       "</div>"
      ],
      "text/plain": [
       "             Sales      Profit\n",
       "Region                        \n",
       "West     4798743.0  1192004.61\n",
       "East     4248368.0  1074345.58\n",
       "Central  3468156.0   856806.84\n",
       "South    2440461.0   623562.89\n",
       "North       1254.0      401.28"
      ]
     },
     "execution_count": 15,
     "metadata": {},
     "output_type": "execute_result"
    }
   ],
   "source": [
    "region_sales_profit = df.groupby(\"Region\").agg({\"Sales\" : \"sum\", \"Profit\" : \"sum\"}).sort_values(\"Profit\", ascending = False)\n",
    "region_sales_profit"
   ]
  },
  {
   "cell_type": "code",
   "execution_count": 17,
   "id": "366eefc3",
   "metadata": {},
   "outputs": [
    {
     "name": "stdout",
     "output_type": "stream",
     "text": [
      "Total Sales: 14956982.0\n",
      "Total Profit: 3747121.1999999997\n",
      "Average Discount: 0.22681709025415253\n",
      "                       Sales     Profit  Discount\n",
      "Category                                         \n",
      "Eggs, Meat & Fish  2267401.0  567357.22  0.227792\n",
      "Snacks             2237546.0  568178.85  0.222048\n",
      "Food Grains        2115272.0  529162.64  0.228548\n",
      "Bakery             2112281.0  528521.06  0.225428\n",
      "Fruits & Veggies   2100727.0  530400.38  0.229295\n",
      "             Sales      Profit\n",
      "Region                        \n",
      "West     4798743.0  1192004.61\n",
      "East     4248368.0  1074345.58\n",
      "Central  3468156.0   856806.84\n",
      "South    2440461.0   623562.89\n",
      "North       1254.0      401.28\n"
     ]
    },
    {
     "data": {
      "text/plain": [
       "<Figure size 800x500 with 0 Axes>"
      ]
     },
     "metadata": {},
     "output_type": "display_data"
    },
    {
     "data": {
      "image/png": "[encoded data removed]",
      "text/plain": [
       "<Figure size 1000x600 with 1 Axes>"
      ]
     },
     "metadata": {},
     "output_type": "display_data"
    }
   ],
   "source": [
    "# Overall KPIs\n",
    "total_sales = df['Sales'].sum()\n",
    "total_profit = df['Profit'].sum()\n",
    "avg_discount = df['Discount'].mean()\n",
    "\n",
    "print('Total Sales:', total_sales)\n",
    "print('Total Profit:', total_profit)\n",
    "print('Average Discount:', avg_discount)\n",
    "\n",
    "# Category level summary\n",
    "cat_summary = df.groupby('Category').agg({'Sales':'sum', 'Profit':'sum', 'Discount':'mean'}).sort_values('Sales', ascending=False)\n",
    "print(cat_summary.head())\n",
    "\n",
    "# Region performance\n",
    "region_summary = df.groupby('Region').agg({'Sales':'sum', 'Profit':'sum'}).sort_values('Sales', ascending=False)\n",
    "print(region_summary)\n",
    "\n",
    "# Visualization: Sales vs Profit by Category\n",
    "plt.figure(figsize=(8,5))\n",
    "cat_summary[['Sales','Profit']].plot(kind='bar', figsize=(10,6))\n",
    "plt.title('Sales and Profit by Category')\n",
    "plt.ylabel('Amount')\n",
    "plt.xticks(rotation=45)\n",
    "plt.tight_layout()\n",
    "plt.show()"
   ]
  },
  {
   "cell_type": "code",
   "execution_count": 18,
   "id": "92f3d616",
   "metadata": {},
   "outputs": [
    {
     "data": {
      "text/plain": [
       "<Figure size 800x500 with 0 Axes>"
      ]
     },
     "metadata": {},
     "output_type": "display_data"
    },
    {
     "data": {
      "image/png": "[encoded data removed]",
      "text/plain": [
       "<Figure size 1000x600 with 1 Axes>"
      ]
     },
     "metadata": {},
     "output_type": "display_data"
    }
   ],
   "source": [
    "# Visualization: Sales vs Profit by region\n",
    "plt.figure(figsize=(8,5))\n",
    "region_summary[['Sales','Profit']].plot(kind='bar', figsize=(10,6))\n",
    "plt.title('Sales and Profit by region')\n",
    "plt.ylabel('Amount')\n",
    "plt.xticks(rotation=45)\n",
    "plt.tight_layout()\n",
    "plt.show()"
   ]
  },
  {
   "cell_type": "code",
   "execution_count": null,
   "id": "5ca32037",
   "metadata": {},
   "outputs": [],
   "source": []
  }
 ],
 "metadata": {
  "kernelspec": {
   "display_name": "Python 3 (ipykernel)",
   "language": "python",
   "name": "python3"
  },
  "language_info": {
   "codemirror_mode": {
    "name": "ipython",
    "version": 3
   },
   "file_extension": ".py",
   "mimetype": "text/x-python",
   "name": "python",
   "nbconvert_exporter": "python",
   "pygments_lexer": "ipython3",
   "version": "3.11.11"
  }
 },
 "nbformat": 4,
 "nbformat_minor": 5
}
